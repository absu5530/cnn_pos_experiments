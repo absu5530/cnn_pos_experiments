{
 "cells": [
  {
   "cell_type": "code",
   "execution_count": 26,
   "metadata": {},
   "outputs": [],
   "source": [
    "import os\n",
    "import pandas as pd\n",
    "import json"
   ]
  },
  {
   "cell_type": "code",
   "execution_count": 12,
   "metadata": {},
   "outputs": [
    {
     "data": {
      "text/plain": [
       "'/Users/uabhifn/models'"
      ]
     },
     "execution_count": 12,
     "metadata": {},
     "output_type": "execute_result"
    }
   ],
   "source": [
    "cd models"
   ]
  },
  {
   "cell_type": "code",
   "execution_count": 34,
   "metadata": {},
   "outputs": [],
   "source": [
    "metrics = []\n",
    "for set_no in range(1,9):\n",
    "    for run in range(0,5):\n",
    "        prefix = \"set_\" + str(set_no) + \"_run_\" + str(run)\n",
    "        r1 = open(os.path.join(prefix, \"results\",\"prediction_summary.json\")).read()\n",
    "        results = json.loads(r1)\n",
    "        metrics.append([set_no,run,results['recall'],results['accuracy'],results['QWK'],results['confusion_matrix']])"
   ]
  },
  {
   "cell_type": "code",
   "execution_count": 51,
   "metadata": {},
   "outputs": [],
   "source": [
    "metrics_df = pd.DataFrame(metrics)\n",
    "metrics_df = metrics_df.rename(index=str, columns={0: \"essay_set\", 1: \"run\",2:\"recall\",3:\"accuracy\",4:\"qwk\",5:\"confusion_matrix\"}) \n",
    "metrics_final = metrics_df.groupby([\"essay_set\"]).mean().reset_index()[['essay_set','recall','accuracy','qwk']]"
   ]
  },
  {
   "cell_type": "code",
   "execution_count": 54,
   "metadata": {},
   "outputs": [
    {
     "name": "stdout",
     "output_type": "stream",
     "text": [
      "   essay_set    recall  accuracy       qwk\n",
      "0          1  0.328949  0.605042  0.628127\n",
      "1          2  0.298696  0.543889  0.482171\n",
      "2          3  0.449288  0.631884  0.580084\n",
      "3          4  0.499906  0.587006  0.625559\n",
      "4          5  0.483703  0.613296  0.761060\n",
      "5          6  0.442437  0.592778  0.707800\n",
      "6          7  0.112093  0.202556  0.592134\n",
      "7          8  0.077378  0.134266  0.230547\n"
     ]
    }
   ],
   "source": [
    "print(metrics_final)"
   ]
  },
  {
   "cell_type": "code",
   "execution_count": null,
   "metadata": {},
   "outputs": [],
   "source": []
  }
 ],
 "metadata": {
  "kernelspec": {
   "display_name": "Python 3",
   "language": "python",
   "name": "python3"
  },
  "language_info": {
   "codemirror_mode": {
    "name": "ipython",
    "version": 3
   },
   "file_extension": ".py",
   "mimetype": "text/x-python",
   "name": "python",
   "nbconvert_exporter": "python",
   "pygments_lexer": "ipython3",
   "version": "3.7.2"
  }
 },
 "nbformat": 4,
 "nbformat_minor": 2
}
