{
 "cells": [
  {
   "cell_type": "code",
   "execution_count": 3,
   "metadata": {},
   "outputs": [],
   "source": [
    "import os\n",
    "import pandas as pd\n",
    "import json"
   ]
  },
  {
   "cell_type": "code",
   "execution_count": 4,
   "metadata": {},
   "outputs": [
    {
     "name": "stdout",
     "output_type": "stream",
     "text": [
      "/Users/uabhifn/models\n"
     ]
    }
   ],
   "source": [
    "cd models"
   ]
  },
  {
   "cell_type": "code",
   "execution_count": 5,
   "metadata": {},
   "outputs": [],
   "source": [
    "metrics = []\n",
    "for set_no in range(1,9):\n",
    "    for run in range(0,5):\n",
    "        prefix = \"set_\" + str(set_no) + \"_run_\" + str(run)\n",
    "        r1 = open(os.path.join(prefix, \"results\",\"prediction_summary.json\")).read()\n",
    "        results = json.loads(r1)\n",
    "        metrics.append([set_no,run,results['recall'],results['accuracy'],results['QWK'],results['confusion_matrix']])"
   ]
  },
  {
   "cell_type": "code",
   "execution_count": 6,
   "metadata": {},
   "outputs": [],
   "source": [
    "metrics_df = pd.DataFrame(metrics)\n",
    "metrics_df = metrics_df.rename(index=str, columns={0: \"essay_set\", 1: \"run\",2:\"recall\",3:\"accuracy\",4:\"qwk\",5:\"confusion_matrix\"}) \n",
    "metrics_final = metrics_df.groupby([\"essay_set\"]).mean().reset_index()[['essay_set','recall','accuracy','qwk']]"
   ]
  },
  {
   "cell_type": "code",
   "execution_count": 7,
   "metadata": {},
   "outputs": [
    {
     "name": "stdout",
     "output_type": "stream",
     "text": [
      "   essay_set    recall  accuracy       qwk\n",
      "0          1  0.328949  0.605042  0.628127\n",
      "1          2  0.298696  0.543889  0.482171\n",
      "2          3  0.449288  0.631884  0.580084\n",
      "3          4  0.499906  0.587006  0.625559\n",
      "4          5  0.483703  0.613296  0.761060\n",
      "5          6  0.442437  0.592778  0.707800\n",
      "6          7  0.112093  0.202556  0.592134\n",
      "7          8  0.077378  0.134266  0.230547\n"
     ]
    }
   ],
   "source": [
    "print(metrics_final)"
   ]
  },
  {
   "cell_type": "markdown",
   "metadata": {},
   "source": [
    "### Essay set 1"
   ]
  },
  {
   "cell_type": "code",
   "execution_count": 9,
   "metadata": {},
   "outputs": [
    {
     "data": {
      "text/plain": [
       "[[0, 0, 2, 0, 0, 0],\n",
       " [0, 0, 5, 0, 0, 0],\n",
       " [0, 1, 21, 16, 1, 0],\n",
       " [0, 0, 22, 106, 55, 2],\n",
       " [0, 0, 1, 12, 84, 5],\n",
       " [0, 0, 0, 1, 20, 3]]"
      ]
     },
     "execution_count": 9,
     "metadata": {},
     "output_type": "execute_result"
    }
   ],
   "source": [
    "metrics[0][5]"
   ]
  },
  {
   "cell_type": "markdown",
   "metadata": {},
   "source": [
    "### Essay set 2"
   ]
  },
  {
   "cell_type": "code",
   "execution_count": 17,
   "metadata": {},
   "outputs": [
    {
     "data": {
      "text/plain": [
       "[[0, 3, 2, 0, 0, 0],\n",
       " [0, 15, 14, 2, 0, 0],\n",
       " [0, 21, 87, 40, 4, 0],\n",
       " [0, 1, 51, 92, 11, 0],\n",
       " [0, 1, 3, 8, 3, 0],\n",
       " [0, 0, 1, 1, 0, 0]]"
      ]
     },
     "execution_count": 17,
     "metadata": {},
     "output_type": "execute_result"
    }
   ],
   "source": [
    "metrics[5][5]"
   ]
  },
  {
   "cell_type": "markdown",
   "metadata": {},
   "source": [
    "### Essay set 5"
   ]
  },
  {
   "cell_type": "code",
   "execution_count": 18,
   "metadata": {},
   "outputs": [
    {
     "data": {
      "text/plain": [
       "[[0, 9, 1, 0, 0],\n",
       " [0, 48, 25, 2, 0],\n",
       " [0, 18, 87, 33, 1],\n",
       " [0, 0, 15, 63, 20],\n",
       " [0, 0, 1, 17, 21]]"
      ]
     },
     "execution_count": 18,
     "metadata": {},
     "output_type": "execute_result"
    }
   ],
   "source": [
    "metrics[20][5]"
   ]
  },
  {
   "cell_type": "markdown",
   "metadata": {},
   "source": [
    "### Essay set 8"
   ]
  },
  {
   "cell_type": "code",
   "execution_count": 19,
   "metadata": {},
   "outputs": [
    {
     "data": {
      "text/plain": [
       "[[0, 0, 0, 0, 0, 0, 0, 2, 0, 0, 0, 0, 0, 0, 0],\n",
       " [0, 0, 0, 0, 0, 0, 0, 0, 1, 0, 0, 0, 0, 0, 0],\n",
       " [0, 0, 0, 0, 0, 0, 0, 1, 0, 0, 0, 0, 0, 0, 0],\n",
       " [0, 0, 0, 0, 1, 0, 1, 0, 0, 0, 0, 0, 0, 0, 0],\n",
       " [0, 0, 0, 0, 0, 1, 0, 0, 1, 0, 0, 0, 0, 0, 0],\n",
       " [0, 0, 0, 0, 1, 0, 9, 0, 5, 5, 2, 1, 0, 0, 0],\n",
       " [0, 0, 0, 0, 0, 0, 0, 3, 2, 2, 2, 0, 0, 0, 0],\n",
       " [0, 0, 0, 0, 0, 0, 1, 0, 6, 5, 2, 0, 1, 0, 0],\n",
       " [0, 0, 0, 0, 0, 1, 1, 0, 2, 6, 2, 2, 1, 0, 0],\n",
       " [0, 0, 0, 0, 0, 0, 1, 0, 1, 2, 1, 0, 1, 0, 0],\n",
       " [0, 0, 0, 0, 0, 1, 2, 8, 9, 19, 5, 4, 1, 0, 0],\n",
       " [0, 0, 0, 0, 0, 0, 2, 0, 1, 0, 0, 0, 1, 0, 0],\n",
       " [0, 0, 0, 0, 0, 0, 0, 1, 0, 1, 0, 1, 0, 0, 0],\n",
       " [0, 0, 0, 0, 0, 0, 0, 0, 1, 0, 1, 1, 0, 1, 0],\n",
       " [0, 0, 0, 0, 0, 0, 1, 3, 1, 0, 0, 2, 0, 0, 0]]"
      ]
     },
     "execution_count": 19,
     "metadata": {},
     "output_type": "execute_result"
    }
   ],
   "source": [
    "metrics[35][5]"
   ]
  }
 ],
 "metadata": {
  "kernelspec": {
   "display_name": "Python 3",
   "language": "python",
   "name": "python3"
  },
  "language_info": {
   "codemirror_mode": {
    "name": "ipython",
    "version": 3
   },
   "file_extension": ".py",
   "mimetype": "text/x-python",
   "name": "python",
   "nbconvert_exporter": "python",
   "pygments_lexer": "ipython3",
   "version": "3.7.2"
  }
 },
 "nbformat": 4,
 "nbformat_minor": 2
}
